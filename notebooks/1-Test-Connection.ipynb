{
 "cells": [
  {
   "cell_type": "markdown",
   "id": "d70cbcc7",
   "metadata": {},
   "source": [
    "<span style=\"font-family:Lucida Sans Unicode; color:#80450e; font-size: 20px\"> 1. Upgrade pip </span>"
   ]
  },
  {
   "cell_type": "code",
   "execution_count": 2,
   "id": "3b4e6930",
   "metadata": {},
   "outputs": [
    {
     "name": "stdout",
     "output_type": "stream",
     "text": [
      "Defaulting to user installation because normal site-packages is not writeable\n",
      "Requirement already satisfied: pip in c:\\users\\pc\\appdata\\roaming\\python\\python310\\site-packages (23.1.2)\n",
      "Collecting pip\n",
      "  Using cached pip-23.2.1-py3-none-any.whl (2.1 MB)\n",
      "Installing collected packages: pip\n",
      "  Attempting uninstall: pip\n",
      "    Found existing installation: pip 23.1.2\n",
      "    Uninstalling pip-23.1.2:\n",
      "      Successfully uninstalled pip-23.1.2\n",
      "Successfully installed pip-23.2.1\n"
     ]
    },
    {
     "name": "stderr",
     "output_type": "stream",
     "text": [
      "  WARNING: The scripts pip.exe, pip3.10.exe and pip3.exe are installed in 'C:\\Users\\pc\\AppData\\Roaming\\Python\\Python310\\Scripts' which is not on PATH.\n",
      "  Consider adding this directory to PATH or, if you prefer to suppress this warning, use --no-warn-script-location.\n"
     ]
    }
   ],
   "source": [
    "!python -m pip install --upgrade pip"
   ]
  },
  {
   "cell_type": "markdown",
   "id": "7f28bb98",
   "metadata": {},
   "source": [
    "<span style=\"font-family:Lucida Sans Unicode; color:#80450e; font-size: 20px\"> 2. Install MySQL </span>"
   ]
  },
  {
   "cell_type": "code",
   "execution_count": 3,
   "id": "49fa7c0b",
   "metadata": {},
   "outputs": [
    {
     "name": "stdout",
     "output_type": "stream",
     "text": [
      "Defaulting to user installation because normal site-packages is not writeable\n",
      "Requirement already satisfied: mysql-connector-python in c:\\users\\pc\\appdata\\roaming\\python\\python310\\site-packages (8.1.0)\n",
      "Requirement already satisfied: protobuf<=4.21.12,>=4.21.1 in c:\\users\\pc\\appdata\\roaming\\python\\python310\\site-packages (from mysql-connector-python) (4.21.12)\n"
     ]
    }
   ],
   "source": [
    "!pip install mysql-connector-python"
   ]
  },
  {
   "cell_type": "markdown",
   "id": "0fe7816b",
   "metadata": {},
   "source": [
    "<span style=\"font-family:Lucida Sans Unicode; color:#80450e; font-size: 20px\"> 3. Evaluate MySQL connection </span>"
   ]
  },
  {
   "cell_type": "code",
   "execution_count": 8,
   "id": "c28b27ca",
   "metadata": {},
   "outputs": [
    {
     "name": "stdout",
     "output_type": "stream",
     "text": [
      "<mysql.connector.connection.MySQLConnection object at 0x000002653DB74FA0>\n",
      "MySQL connection Successful!\n"
     ]
    }
   ],
   "source": [
    "# Importing required libraries\n",
    "import mysql.connector\n",
    "  \n",
    "db = mysql.connector.connect(\n",
    "  host =\"localhost\",\n",
    "  user =\"user\",\n",
    "  password =\"user\"\n",
    ")\n",
    "\n",
    "try:\n",
    "    print(db)\n",
    "\n",
    "except Exception as exc:\n",
    "    print(\"Connection Unsuccessful\", exc)\n",
    "\n",
    "else:\n",
    "    print(\"MySQL connection Successful!\")    \n",
    "    \n",
    "  \n",
    "# Disconnecting from the server\n",
    "db.close()"
   ]
  },
  {
   "cell_type": "code",
   "execution_count": null,
   "id": "7fc85608",
   "metadata": {},
   "outputs": [],
   "source": []
  }
 ],
 "metadata": {
  "kernelspec": {
   "display_name": "Python 3 (ipykernel)",
   "language": "python",
   "name": "python3"
  },
  "language_info": {
   "codemirror_mode": {
    "name": "ipython",
    "version": 3
   },
   "file_extension": ".py",
   "mimetype": "text/x-python",
   "name": "python",
   "nbconvert_exporter": "python",
   "pygments_lexer": "ipython3",
   "version": "3.10.9"
  }
 },
 "nbformat": 4,
 "nbformat_minor": 5
}
